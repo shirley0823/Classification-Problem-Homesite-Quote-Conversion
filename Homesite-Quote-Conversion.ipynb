{
 "cells": [
  {
   "cell_type": "code",
   "execution_count": 1,
   "metadata": {
    "colab": {
     "base_uri": "https://localhost:8080/",
     "height": 238
    },
    "colab_type": "code",
    "id": "QcwQ5hdHdllC",
    "outputId": "28504acc-f712-42fd-d5dd-493f73e4a522"
   },
   "outputs": [
    {
     "name": "stdout",
     "output_type": "stream",
     "text": [
      "Collecting vecstack\n",
      "  Downloading https://files.pythonhosted.org/packages/d0/a1/b9a1e9e9e5a12078da1ab9788c7885e4c745358f7e57d5f94d9db6a4e898/vecstack-0.4.0.tar.gz\n",
      "Requirement already satisfied: numpy in /usr/local/lib/python3.6/dist-packages (from vecstack) (1.17.3)\n",
      "Requirement already satisfied: scipy in /usr/local/lib/python3.6/dist-packages (from vecstack) (1.3.1)\n",
      "Requirement already satisfied: scikit-learn>=0.18 in /usr/local/lib/python3.6/dist-packages (from vecstack) (0.21.3)\n",
      "Requirement already satisfied: joblib>=0.11 in /usr/local/lib/python3.6/dist-packages (from scikit-learn>=0.18->vecstack) (0.14.0)\n",
      "Building wheels for collected packages: vecstack\n",
      "  Building wheel for vecstack (setup.py) ... \u001b[?25l\u001b[?25hdone\n",
      "  Created wheel for vecstack: filename=vecstack-0.4.0-cp36-none-any.whl size=19879 sha256=0d48aed40fecd5c92acb1621caa0120ed8a921d966612818a7c5b3e6a6ff256a\n",
      "  Stored in directory: /root/.cache/pip/wheels/5f/bb/4e/f6488433d53bc0684673d6845e5bf11a25240577c8151c140e\n",
      "Successfully built vecstack\n",
      "Installing collected packages: vecstack\n",
      "Successfully installed vecstack-0.4.0\n"
     ]
    }
   ],
   "source": [
    "!pip install vecstack"
   ]
  },
  {
   "cell_type": "code",
   "execution_count": 0,
   "metadata": {
    "colab": {},
    "colab_type": "code",
    "id": "eQqGDszCfMbu"
   },
   "outputs": [],
   "source": [
    "from vecstack import stacking\n",
    "import pandas as pd\n",
    "import numpy as np\n",
    "from sklearn.metrics import accuracy_score\n",
    "from sklearn.model_selection import train_test_split\n",
    "from sklearn.ensemble import RandomForestClassifier\n",
    "from sklearn.tree import DecisionTreeClassifier\n",
    "from sklearn.ensemble import GradientBoostingClassifier\n",
    "from sklearn.neural_network import MLPClassifier\n",
    "from sklearn.neighbors import KNeighborsClassifier\n",
    "from sklearn.model_selection import cross_val_score\n",
    "from sklearn.metrics import classification_report, confusion_matrix\n",
    "\n",
    "from imblearn.over_sampling import SMOTE \n",
    "from sklearn.svm import SVC\n",
    "from collections import Counter\n",
    "\n",
    "import warnings\n",
    "warnings.filterwarnings(\"ignore\")"
   ]
  },
  {
   "cell_type": "code",
   "execution_count": 5,
   "metadata": {
    "colab": {
     "base_uri": "https://localhost:8080/",
     "height": 357
    },
    "colab_type": "code",
    "id": "1vyZX66TfUTt",
    "outputId": "7c00eb31-0fc7-4515-c717-dc984cc7a242"
   },
   "outputs": [
    {
     "name": "stdout",
     "output_type": "stream",
     "text": [
      "Drive already mounted at /gdrive; to attempt to forcibly remount, call drive.mount(\"/gdrive\", force_remount=True).\n",
      "/gdrive\n",
      "(65000, 596)\n",
      "   CoverageField11A  ...  QuoteConversion_Flag\n",
      "0                 2  ...                     0\n",
      "1                 5  ...                     0\n",
      "2                 4  ...                     0\n",
      "3                15  ...                     0\n",
      "4                 4  ...                     0\n",
      "\n",
      "[5 rows x 596 columns]\n",
      "(173836, 596)\n",
      "   CoverageField11A  CoverageField11B  ...  GeographicField64_TX  GeographicField64\n",
      "0                13                22  ...                     0                 IL\n",
      "1                 4                 5  ...                     0                 NJ\n",
      "2                 3                 3  ...                     0                 NJ\n",
      "3                 5                 9  ...                     0                 TX\n",
      "4                12                21  ...                     0                 CA\n",
      "\n",
      "[5 rows x 596 columns]\n"
     ]
    }
   ],
   "source": [
    "# To upload our datasets from our working directory we need to mount our drive contents to the colab environment. \n",
    "# For the code to do so you can search “mount” in code snippets or use the code given below. \n",
    "# Our entire drive contents are now mounted on colab at the location “/gdrive”.\n",
    "\n",
    "from google.colab import drive\n",
    "drive.mount('/gdrive')\n",
    "# Change current working directory to gdrive\n",
    "%cd /gdrive\n",
    "\n",
    "trainfile = r'/gdrive/My Drive/Courses/CIS508/RevisedHomesiteTrain.csv'\n",
    "train_data = pd.read_csv(trainfile)\n",
    "\n",
    "testfile = r'/gdrive/My Drive/Courses/CIS508/RevisedHomesiteTest.csv'\n",
    "test_data = pd.read_csv(testfile)\n",
    "\n",
    "print(train_data.shape)\n",
    "print(train_data.head()) \n",
    "\n",
    "print(test_data.shape)\n",
    "print(test_data.head()) "
   ]
  },
  {
   "cell_type": "code",
   "execution_count": 8,
   "metadata": {
    "colab": {
     "base_uri": "https://localhost:8080/",
     "height": 289
    },
    "colab_type": "code",
    "id": "OUBE7LTNfccW",
    "outputId": "3880bd02-869d-4176-8859-8bb53fb641b1"
   },
   "outputs": [
    {
     "name": "stdout",
     "output_type": "stream",
     "text": [
      "(65000, 594)\n",
      "   CoverageField11A  ...  GeographicField64_TX\n",
      "0                13  ...                     0\n",
      "1                 4  ...                     0\n",
      "2                 3  ...                     0\n",
      "3                 5  ...                     0\n",
      "4                12  ...                     0\n",
      "\n",
      "[5 rows x 594 columns]\n",
      "(65000,)\n",
      "0    IL\n",
      "1    NJ\n",
      "2    NJ\n",
      "3    TX\n",
      "4    CA\n",
      "Name: GeographicField64, dtype: object\n"
     ]
    }
   ],
   "source": [
    "# Copy Train data excluding target\n",
    "trainData_Copy = train_data.drop('QuoteNumber', axis=1).iloc[:, :-1].copy()\n",
    "testData_Copy = test_data.drop('QuoteNumber', axis = 1).iloc[:, :-1].copy()\n",
    "\n",
    "# Separate Train data and test data\n",
    "X_train = trainData_Copy\n",
    "X_test = testData_Copy\n",
    "y_train = train_data[\"QuoteConversion_Flag\"]\n",
    "\n",
    "# Select just Target Column\n",
    "y_train = train_data.iloc[:, -1]\n",
    "y_test = test_data.iloc[:, -1]\n",
    "\n",
    "print(X_train.shape)\n",
    "print(X_test.head()) \n",
    "\n",
    "print(y_train.shape)\n",
    "print(y_test.head()) "
   ]
  },
  {
   "cell_type": "code",
   "execution_count": 0,
   "metadata": {
    "colab": {},
    "colab_type": "code",
    "id": "4OO4E9lNTEP1"
   },
   "outputs": [],
   "source": [
    "# Create Validation Dataset from Training Dataset\n",
    "from sklearn.model_selection import train_test_split\n",
    "X_train1, X_val, y_train1, y_val = train_test_split(X_train, y_train, test_size = 0.2)"
   ]
  },
  {
   "cell_type": "code",
   "execution_count": 15,
   "metadata": {
    "colab": {
     "base_uri": "https://localhost:8080/",
     "height": 85
    },
    "colab_type": "code",
    "id": "ouSzZTRsfnqO",
    "outputId": "d9ee2823-e2c3-4a4e-81f5-b7b9ba968110"
   },
   "outputs": [
    {
     "name": "stdout",
     "output_type": "stream",
     "text": [
      "accuracy Score (training) for Decision TreE:0.880308\n",
      "Confusion Matrix for Decision Tree\n",
      "[[9782  743]\n",
      " [ 813 1662]]\n"
     ]
    }
   ],
   "source": [
    "# Default Decision Tree and Obtain Respective Accuracy\n",
    "clf = DecisionTreeClassifier()\n",
    "clf.fit(X_train1, y_train1)\n",
    "clf_predict = clf.predict(X_val)\n",
    "print(\"accuracy Score (training) for Decision TreE:{0:6f}\".format(clf.score(X_val, y_val)))\n",
    "print(\"Confusion Matrix for Decision Tree\")\n",
    "print(confusion_matrix(y_val,clf_predict))"
   ]
  },
  {
   "cell_type": "code",
   "execution_count": 0,
   "metadata": {
    "colab": {},
    "colab_type": "code",
    "id": "metdJlkbTJ36"
   },
   "outputs": [],
   "source": [
    "pred_proba = clf.predict_proba(X_test)\n",
    "pd.concat([test_data['QuoteNumber'], pd.DataFrame(pred_proba[:, 1], columns = ['QuoteConversion_Flag'])], axis = 1).to_csv('/results_decisiontree.csv', index = None)\n",
    "from google.colab import files\n",
    "files.download('/results_decisiontree.csv')"
   ]
  },
  {
   "cell_type": "code",
   "execution_count": 0,
   "metadata": {
    "colab": {
     "base_uri": "https://localhost:8080/",
     "height": 34
    },
    "colab_type": "code",
    "id": "cuhgy0RcseYE",
    "outputId": "4869ba63-6737-4aec-a77f-6dbaad6fa313"
   },
   "outputs": [
    {
     "name": "stdout",
     "output_type": "stream",
     "text": [
      "Accuracy Score (training) for RandomForest:0.992308\n"
     ]
    }
   ],
   "source": [
    "# Default Random Forest and Obtain Respective Accuracy\n",
    "rfc = RandomForestClassifier()\n",
    "rfc.fit(X_train, y_train)\n",
    "rfc_predict = rfc.predict(X_test)\n",
    "print(\"Accuracy Score (training) for RandomForest:{0:6f}\".format(mlp.score(X_val, y_val)))\n",
    "\n",
    "pred_proba = rfc.predict_proba(X_test)\n",
    "pd.concat([test_data['QuoteNumber'], pd.DataFrame(pred_proba[:, 1], columns = ['QuoteConversion_Flag'])], axis = 1).to_csv('/results_randomforest.csv', index = None)"
   ]
  },
  {
   "cell_type": "code",
   "execution_count": 0,
   "metadata": {
    "colab": {},
    "colab_type": "code",
    "id": "UBA7vTkHgOSC"
   },
   "outputs": [],
   "source": [
    "files.download('/results_randomforest.csv')"
   ]
  },
  {
   "cell_type": "code",
   "execution_count": 0,
   "metadata": {
    "colab": {
     "base_uri": "https://localhost:8080/",
     "height": 34
    },
    "colab_type": "code",
    "id": "91eLALAohcl0",
    "outputId": "4e3fc54d-157a-491e-a947-40516647507a"
   },
   "outputs": [
    {
     "name": "stdout",
     "output_type": "stream",
     "text": [
      "Accuracy Score (training) for Boosting:0.924462\n"
     ]
    }
   ],
   "source": [
    "# Default Gradient Boosting and Obtain Respective Accuracy \n",
    "search_grid = {'n_estimators':[5, 10, 20, 30, 50], 'learning_rate':[0.01, .1]}\n",
    "abc = GradientBoostingClassifier()\n",
    "abc.fit(X_train, y_train)\n",
    "abc_predict = abc.predict(X_test)\n",
    "print(\"Accuracy Score (training) for Boosting:{0:6f}\".format(abc.score(X_val, y_val)))\n",
    "\n",
    "pred_proba = abc.predict_proba(X_test)\n",
    "pd.concat([test_data['QuoteNumber'], pd.DataFrame(pred_proba[:, 1], columns = ['QuoteConversion_Flag'])], axis = 1).to_csv('/results_gradientboosting.csv', index = None)"
   ]
  },
  {
   "cell_type": "code",
   "execution_count": 0,
   "metadata": {
    "colab": {},
    "colab_type": "code",
    "id": "zs6cnxWBgTRz"
   },
   "outputs": [],
   "source": [
    "files.download('/results_gradientboosting.csv')"
   ]
  },
  {
   "cell_type": "code",
   "execution_count": 24,
   "metadata": {
    "colab": {
     "base_uri": "https://localhost:8080/",
     "height": 34
    },
    "colab_type": "code",
    "id": "JVGA88YBgocG",
    "outputId": "025e76ca-0d41-457b-fe72-3b4a026b05a4"
   },
   "outputs": [
    {
     "name": "stdout",
     "output_type": "stream",
     "text": [
      "Accuracy Score (training) for NeuralNetwork:0.563462\n"
     ]
    }
   ],
   "source": [
    "# Default Neural Network and Obtain Respective Accuracy \n",
    "mlp = MLPClassifier()\n",
    "mlp.fit(X_train, y_train)\n",
    "mlp_predict = mlp.predict(X_test)\n",
    "print(\"Accuracy Score (training) for NeuralNetwork:{0:6f}\".format(mlp.score(X_val, y_val)))\n",
    "\n",
    "pred_proba = mlp.predict_proba(X_test)\n",
    "pd.concat([test_data['QuoteNumber'], pd.DataFrame(pred_proba[:, 1], columns = ['QuoteConversion_Flag'])], axis = 1).to_csv('/results_neuralnetwork.csv', index = None)"
   ]
  },
  {
   "cell_type": "code",
   "execution_count": 0,
   "metadata": {
    "colab": {},
    "colab_type": "code",
    "id": "xiO2fCPkhA86"
   },
   "outputs": [],
   "source": [
    "files.download('/results_neuralnetwork.csv')"
   ]
  },
  {
   "cell_type": "code",
   "execution_count": 30,
   "metadata": {
    "colab": {
     "base_uri": "https://localhost:8080/",
     "height": 34
    },
    "colab_type": "code",
    "id": "6Pv7hCoqjj1Y",
    "outputId": "f2c66a43-09ef-4b15-c2c1-25f8419c0295"
   },
   "outputs": [
    {
     "name": "stdout",
     "output_type": "stream",
     "text": [
      "Accuracy Score (training) for KNearestNeighbor:0.835538\n"
     ]
    }
   ],
   "source": [
    "# Default K-Nearest Neighbor and Obtain Respective Accuracy \n",
    "knc = KNeighborsClassifier()\n",
    "knc.fit(X_train, y_train)\n",
    "knc_predict = knc.predict(X_test)\n",
    "print(\"Accuracy Score (training) for KNearestNeighbor:{0:6f}\".format(knc.score(X_val, y_val)))\n",
    "\n",
    "pred_proba = knc.predict_proba(X_test)\n",
    "pd.concat([test_data['QuoteNumber'], pd.DataFrame(pred_proba[:, 1], columns = ['QuoteConversion_Flag'])], axis = 1).to_csv('/results_knearestneighbor.csv', index = None)"
   ]
  },
  {
   "cell_type": "code",
   "execution_count": 0,
   "metadata": {
    "colab": {},
    "colab_type": "code",
    "id": "U2glOM5clLOE"
   },
   "outputs": [],
   "source": [
    "files.download('/results_knearestneighbor.csv')"
   ]
  },
  {
   "cell_type": "code",
   "execution_count": 0,
   "metadata": {
    "colab": {
     "base_uri": "https://localhost:8080/",
     "height": 493
    },
    "colab_type": "code",
    "id": "sWE9CI9eWFyx",
    "outputId": "6c917847-2e7a-43b9-c541-6477a8764956"
   },
   "outputs": [
    {
     "name": "stdout",
     "output_type": "stream",
     "text": [
      "Ensemble Methods Predictions using GradientBoosting, RandomForest and Decision Tree Classifier\n",
      "\n",
      "task:         [classification]\n",
      "n_classes:    [2]\n",
      "metric:       [accuracy_score]\n",
      "mode:         [oof_pred_bag]\n",
      "n_models:     [3]\n",
      "\n",
      "model  0:     [GradientBoostingClassifier]\n",
      "    fold  0:  [0.93981797]\n",
      "    fold  1:  [0.94084187]\n",
      "    fold  2:  [0.93882737]\n",
      "    fold  3:  [0.94159587]\n",
      "    ----\n",
      "    MEAN:     [0.94027077] + [0.00104529]\n",
      "    FULL:     [0.94027077]\n",
      "\n",
      "model  1:     [RandomForestClassifier]\n",
      "    fold  0:  [0.93871824]\n",
      "    fold  1:  [0.94076602]\n",
      "    fold  2:  [0.94068568]\n",
      "    fold  3:  [0.94053398]\n",
      "    ----\n",
      "    MEAN:     [0.94017598] + [0.00084574]\n",
      "    FULL:     [0.94017596]\n",
      "\n",
      "model  2:     [DecisionTreeClassifier]\n",
      "    fold  0:  [0.93348502]\n"
     ]
    }
   ],
   "source": [
    "# Stacking Models\n",
    "print(\"Ensemble Methods Predictions using GradientBoosting, RandomForest and Decision Tree Classifier\\n\")\n",
    "\n",
    "models = [GradientBoostingClassifier(**grid_parm_abc), RandomForestClassifier(**grid_parm_rfc), DecisionTreeClassifier(**grid_parm)]\n",
    "      \n",
    "S_Train, S_Test = stacking(models,                   \n",
    "                           X_res, y_res, X_test,   \n",
    "                           regression = False, \n",
    "                           mode = 'oof_pred_bag', \n",
    "                           needs_proba = False,\n",
    "                           save_dir = None, \n",
    "                           metric = accuracy_score, \n",
    "                           n_folds = 4, \n",
    "                           stratified = True,\n",
    "                           shuffle = True,  \n",
    "                           random_state = 0,    \n",
    "                           verbose = 2)"
   ]
  },
  {
   "cell_type": "code",
   "execution_count": 0,
   "metadata": {
    "colab": {},
    "colab_type": "code",
    "id": "P3lLPxbSWNrK"
   },
   "outputs": [],
   "source": [
    "# Stacking - Construct a Gradient Boosting Model\n",
    "model = GradientBoostingClassifier()\n",
    "    \n",
    "model = model.fit(S_Train, y_res)\n",
    "y_pred = model.predict(S_Test)\n",
    "\n",
    "pred_proba = model.predict_proba(S_Test)\n",
    "pd.concat([test_data['QuoteNumber'], pd.DataFrame(pred_proba[:, 1], columns = ['QuoteConversion_Flag'])], axis = 1).to_csv('/results_gradientboosting_stacking.csv', index = None)"
   ]
  },
  {
   "cell_type": "code",
   "execution_count": 0,
   "metadata": {
    "colab": {},
    "colab_type": "code",
    "id": "xbBSeb66WQ_v"
   },
   "outputs": [],
   "source": [
    "files.download('/results_gradientboosting_stacking.csv')"
   ]
  }
 ],
 "metadata": {
  "colab": {
   "collapsed_sections": [],
   "name": "Copy of Assignment #3.ipynb",
   "provenance": []
  },
  "kernelspec": {
   "display_name": "Python 3",
   "language": "python",
   "name": "python3"
  },
  "language_info": {
   "codemirror_mode": {
    "name": "ipython",
    "version": 3
   },
   "file_extension": ".py",
   "mimetype": "text/x-python",
   "name": "python",
   "nbconvert_exporter": "python",
   "pygments_lexer": "ipython3",
   "version": "3.7.4"
  }
 },
 "nbformat": 4,
 "nbformat_minor": 1
}
